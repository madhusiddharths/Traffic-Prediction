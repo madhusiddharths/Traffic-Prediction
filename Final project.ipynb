{
 "cells": [
  {
   "cell_type": "code",
   "execution_count": 18,
   "metadata": {
    "ExecuteTime": {
     "end_time": "2024-04-25T16:27:15.178473100Z",
     "start_time": "2024-04-25T16:27:14.914866500Z"
    },
    "collapsed": true,
    "jupyter": {
     "outputs_hidden": true
    }
   },
   "outputs": [],
   "source": [
    "import numpy as np\n",
    "import pandas as pd\n",
    "import numpy\n",
    "import joblib\n",
    "from sklearn.preprocessing import PolynomialFeatures\n",
    "from sklearn.model_selection import train_test_split\n",
    "import requests\n",
    "import heapq\n",
    "import folium\n",
    "from geopy.geocoders import Nominatim\n",
    "from bs4 import BeautifulSoup"
   ]
  },
  {
   "cell_type": "code",
   "execution_count": 2,
   "metadata": {
    "ExecuteTime": {
     "end_time": "2024-04-25T16:11:54.533362200Z",
     "start_time": "2024-04-25T16:11:53.571844700Z"
    },
    "collapsed": false,
    "jupyter": {
     "outputs_hidden": false
    }
   },
   "outputs": [
    {
     "data": {
      "text/html": [
       "<div>\n",
       "<style scoped>\n",
       "    .dataframe tbody tr th:only-of-type {\n",
       "        vertical-align: middle;\n",
       "    }\n",
       "\n",
       "    .dataframe tbody tr th {\n",
       "        vertical-align: top;\n",
       "    }\n",
       "\n",
       "    .dataframe thead th {\n",
       "        text-align: right;\n",
       "    }\n",
       "</style>\n",
       "<table border=\"1\" class=\"dataframe\">\n",
       "  <thead>\n",
       "    <tr style=\"text-align: right;\">\n",
       "      <th></th>\n",
       "      <th>Sample Time</th>\n",
       "      <th>1212480 Lane 1 Flow</th>\n",
       "      <th>1212480 Lane 2 Flow</th>\n",
       "      <th>1212480 Lane 3 Flow</th>\n",
       "      <th>day_of_week</th>\n",
       "      <th>day1</th>\n",
       "      <th>day2</th>\n",
       "      <th>day3</th>\n",
       "      <th>day4</th>\n",
       "      <th>day5</th>\n",
       "      <th>...</th>\n",
       "      <th>minute15</th>\n",
       "      <th>minute20</th>\n",
       "      <th>minute25</th>\n",
       "      <th>minute30</th>\n",
       "      <th>minute35</th>\n",
       "      <th>minute40</th>\n",
       "      <th>minute45</th>\n",
       "      <th>minute50</th>\n",
       "      <th>minute55</th>\n",
       "      <th>total</th>\n",
       "    </tr>\n",
       "  </thead>\n",
       "  <tbody>\n",
       "    <tr>\n",
       "      <th>101348</th>\n",
       "      <td>01-01-2021 00:00</td>\n",
       "      <td>1</td>\n",
       "      <td>6</td>\n",
       "      <td>3</td>\n",
       "      <td>5</td>\n",
       "      <td>0</td>\n",
       "      <td>0</td>\n",
       "      <td>0</td>\n",
       "      <td>0</td>\n",
       "      <td>1</td>\n",
       "      <td>...</td>\n",
       "      <td>0</td>\n",
       "      <td>0</td>\n",
       "      <td>0</td>\n",
       "      <td>0</td>\n",
       "      <td>0</td>\n",
       "      <td>0</td>\n",
       "      <td>0</td>\n",
       "      <td>0</td>\n",
       "      <td>0</td>\n",
       "      <td>10</td>\n",
       "    </tr>\n",
       "    <tr>\n",
       "      <th>101349</th>\n",
       "      <td>01-01-2021 00:05</td>\n",
       "      <td>0</td>\n",
       "      <td>3</td>\n",
       "      <td>5</td>\n",
       "      <td>5</td>\n",
       "      <td>0</td>\n",
       "      <td>0</td>\n",
       "      <td>0</td>\n",
       "      <td>0</td>\n",
       "      <td>1</td>\n",
       "      <td>...</td>\n",
       "      <td>0</td>\n",
       "      <td>0</td>\n",
       "      <td>0</td>\n",
       "      <td>0</td>\n",
       "      <td>0</td>\n",
       "      <td>0</td>\n",
       "      <td>0</td>\n",
       "      <td>0</td>\n",
       "      <td>0</td>\n",
       "      <td>8</td>\n",
       "    </tr>\n",
       "    <tr>\n",
       "      <th>101350</th>\n",
       "      <td>01-01-2021 00:10</td>\n",
       "      <td>0</td>\n",
       "      <td>2</td>\n",
       "      <td>2</td>\n",
       "      <td>5</td>\n",
       "      <td>0</td>\n",
       "      <td>0</td>\n",
       "      <td>0</td>\n",
       "      <td>0</td>\n",
       "      <td>1</td>\n",
       "      <td>...</td>\n",
       "      <td>0</td>\n",
       "      <td>0</td>\n",
       "      <td>0</td>\n",
       "      <td>0</td>\n",
       "      <td>0</td>\n",
       "      <td>0</td>\n",
       "      <td>0</td>\n",
       "      <td>0</td>\n",
       "      <td>0</td>\n",
       "      <td>4</td>\n",
       "    </tr>\n",
       "    <tr>\n",
       "      <th>101351</th>\n",
       "      <td>01-01-2021 00:15</td>\n",
       "      <td>1</td>\n",
       "      <td>5</td>\n",
       "      <td>0</td>\n",
       "      <td>5</td>\n",
       "      <td>0</td>\n",
       "      <td>0</td>\n",
       "      <td>0</td>\n",
       "      <td>0</td>\n",
       "      <td>1</td>\n",
       "      <td>...</td>\n",
       "      <td>1</td>\n",
       "      <td>0</td>\n",
       "      <td>0</td>\n",
       "      <td>0</td>\n",
       "      <td>0</td>\n",
       "      <td>0</td>\n",
       "      <td>0</td>\n",
       "      <td>0</td>\n",
       "      <td>0</td>\n",
       "      <td>6</td>\n",
       "    </tr>\n",
       "    <tr>\n",
       "      <th>101352</th>\n",
       "      <td>01-01-2021 00:20</td>\n",
       "      <td>1</td>\n",
       "      <td>9</td>\n",
       "      <td>2</td>\n",
       "      <td>5</td>\n",
       "      <td>0</td>\n",
       "      <td>0</td>\n",
       "      <td>0</td>\n",
       "      <td>0</td>\n",
       "      <td>1</td>\n",
       "      <td>...</td>\n",
       "      <td>0</td>\n",
       "      <td>1</td>\n",
       "      <td>0</td>\n",
       "      <td>0</td>\n",
       "      <td>0</td>\n",
       "      <td>0</td>\n",
       "      <td>0</td>\n",
       "      <td>0</td>\n",
       "      <td>0</td>\n",
       "      <td>12</td>\n",
       "    </tr>\n",
       "  </tbody>\n",
       "</table>\n",
       "<p>5 rows × 51 columns</p>\n",
       "</div>"
      ],
      "text/plain": [
       "             Sample Time  1212480 Lane 1 Flow  1212480 Lane 2 Flow   \n",
       "101348  01-01-2021 00:00                    1                    6  \\\n",
       "101349  01-01-2021 00:05                    0                    3   \n",
       "101350  01-01-2021 00:10                    0                    2   \n",
       "101351  01-01-2021 00:15                    1                    5   \n",
       "101352  01-01-2021 00:20                    1                    9   \n",
       "\n",
       "        1212480 Lane 3 Flow  day_of_week  day1  day2  day3  day4  day5  ...   \n",
       "101348                    3            5     0     0     0     0     1  ...  \\\n",
       "101349                    5            5     0     0     0     0     1  ...   \n",
       "101350                    2            5     0     0     0     0     1  ...   \n",
       "101351                    0            5     0     0     0     0     1  ...   \n",
       "101352                    2            5     0     0     0     0     1  ...   \n",
       "\n",
       "        minute15  minute20  minute25  minute30  minute35  minute40  minute45   \n",
       "101348         0         0         0         0         0         0         0  \\\n",
       "101349         0         0         0         0         0         0         0   \n",
       "101350         0         0         0         0         0         0         0   \n",
       "101351         1         0         0         0         0         0         0   \n",
       "101352         0         1         0         0         0         0         0   \n",
       "\n",
       "        minute50  minute55  total  \n",
       "101348         0         0     10  \n",
       "101349         0         0      8  \n",
       "101350         0         0      4  \n",
       "101351         0         0      6  \n",
       "101352         0         0     12  \n",
       "\n",
       "[5 rows x 51 columns]"
      ]
     },
     "execution_count": 2,
     "metadata": {},
     "output_type": "execute_result"
    }
   ],
   "source": [
    "df = pd.read_csv('data.csv')\n",
    "df.sort_values(['Sample Time'], inplace=True, ascending=True)\n",
    "df.head()"
   ]
  },
  {
   "cell_type": "code",
   "execution_count": 3,
   "metadata": {
    "ExecuteTime": {
     "end_time": "2024-04-25T16:11:54.554666200Z",
     "start_time": "2024-04-25T16:11:54.533362200Z"
    },
    "collapsed": false,
    "jupyter": {
     "outputs_hidden": false
    }
   },
   "outputs": [
    {
     "name": "stdout",
     "output_type": "stream",
     "text": [
      "time :  2024-04-26 16:35:00\n",
      "day of week :  5\n",
      "input array :  [0. 0. 0. 0. 0. 0. 0. 0. 0. 0. 0. 0. 0. 0. 0. 0. 0. 0. 0. 0. 0. 0. 0. 0.\n",
      " 0. 0. 0. 0. 0. 0. 0. 0. 0. 0. 0. 0. 0. 0. 0. 0. 0. 0. 0.]\n",
      "updated input array :  [0. 0. 0. 0. 1. 0. 0. 0. 0. 0. 0. 0. 0. 0. 0. 0. 0. 0. 0. 0. 0. 1. 0. 0.\n",
      " 0. 0. 0. 0. 0. 0. 0. 0. 0. 0. 0. 0. 0. 0. 1. 0. 0. 0. 0.]\n"
     ]
    }
   ],
   "source": [
    "def get_input():\n",
    "    time = pd.to_datetime(\"04-26-2024 16:35:00\")\n",
    "    print(\"time : \", time)\n",
    "    day_of_week = time.weekday()+1\n",
    "    print(\"day of week : \", day_of_week)\n",
    "    input_array = np.zeros(43)\n",
    "    print(\"input array : \", input_array)\n",
    "    input_array[day_of_week - 1] = 1\n",
    "    hour = time.hour\n",
    "    input_array[6 + hour - 1] = 1\n",
    "    minute = time.minute\n",
    "    minute = round(minute / 5) * 5\n",
    "    input_array[31 + round(minute / 5)] = 1\n",
    "    print(\"updated input array : \", input_array)\n",
    "    return input_array\n",
    "input_array = get_input()"
   ]
  },
  {
   "cell_type": "code",
   "execution_count": 4,
   "metadata": {
    "ExecuteTime": {
     "end_time": "2024-04-25T16:11:54.861654Z",
     "start_time": "2024-04-25T16:11:54.554666200Z"
    },
    "collapsed": false,
    "jupyter": {
     "outputs_hidden": false
    }
   },
   "outputs": [
    {
     "name": "stdout",
     "output_type": "stream",
     "text": [
      "transformed :  [[1. 0. 0. 0. 0. 1. 0. 0. 0. 0. 0. 0. 0. 0. 0. 0. 0. 0. 0. 0. 0. 0. 1. 0.\n",
      "  0. 0. 0. 0. 0. 0. 0. 0. 0. 0. 0. 0. 0. 0. 0. 1. 0. 0. 0. 0. 0. 0. 0. 0.\n",
      "  0. 0. 0. 0. 0. 0. 0. 0. 0. 0. 0. 0. 0. 0. 0. 0. 0. 0. 0. 0. 0. 0. 0. 0.\n",
      "  0. 0. 0. 0. 0. 0. 0. 0. 0. 0. 0. 0. 0. 0. 0. 0. 0. 0. 0. 0. 0. 0. 0. 0.\n",
      "  0. 0. 0. 0. 0. 0. 0. 0. 0. 0. 0. 0. 0. 0. 0. 0. 0. 0. 0. 0. 0. 0. 0. 0.\n",
      "  0. 0. 0. 0. 0. 0. 0. 0. 0. 0. 0. 0. 0. 0. 0. 0. 0. 0. 0. 0. 0. 0. 0. 0.\n",
      "  0. 0. 0. 0. 0. 0. 0. 0. 0. 0. 0. 0. 0. 0. 0. 0. 0. 0. 0. 0. 0. 0. 0. 0.\n",
      "  0. 0. 0. 0. 0. 0. 0. 0. 0. 0. 0. 0. 0. 0. 0. 0. 0. 0. 0. 0. 0. 0. 0. 0.\n",
      "  0. 0. 0. 0. 0. 0. 0. 0. 0. 0. 0. 0. 0. 0. 0. 0. 0. 0. 1. 0. 0. 0. 0. 0.\n",
      "  0. 0. 0. 0. 0. 0. 0. 0. 0. 0. 0. 1. 0. 0. 0. 0. 0. 0. 0. 0. 0. 0. 0. 0.\n",
      "  0. 0. 0. 0. 1. 0. 0. 0. 0. 0. 0. 0. 0. 0. 0. 0. 0. 0. 0. 0. 0. 0. 0. 0.\n",
      "  0. 0. 0. 0. 0. 0. 0. 0. 0. 0. 0. 0. 0. 0. 0. 0. 0. 0. 0. 0. 0. 0. 0. 0.\n",
      "  0. 0. 0. 0. 0. 0. 0. 0. 0. 0. 0. 0. 0. 0. 0. 0. 0. 0. 0. 0. 0. 0. 0. 0.\n",
      "  0. 0. 0. 0. 0. 0. 0. 0. 0. 0. 0. 0. 0. 0. 0. 0. 0. 0. 0. 0. 0. 0. 0. 0.\n",
      "  0. 0. 0. 0. 0. 0. 0. 0. 0. 0. 0. 0. 0. 0. 0. 0. 0. 0. 0. 0. 0. 0. 0. 0.\n",
      "  0. 0. 0. 0. 0. 0. 0. 0. 0. 0. 0. 0. 0. 0. 0. 0. 0. 0. 0. 0. 0. 0. 0. 0.\n",
      "  0. 0. 0. 0. 0. 0. 0. 0. 0. 0. 0. 0. 0. 0. 0. 0. 0. 0. 0. 0. 0. 0. 0. 0.\n",
      "  0. 0. 0. 0. 0. 0. 0. 0. 0. 0. 0. 0. 0. 0. 0. 0. 0. 0. 0. 0. 0. 0. 0. 0.\n",
      "  0. 0. 0. 0. 0. 0. 0. 0. 0. 0. 0. 0. 0. 0. 0. 0. 0. 0. 0. 0. 0. 0. 0. 0.\n",
      "  0. 0. 0. 0. 0. 0. 0. 0. 0. 0. 0. 0. 0. 0. 0. 0. 0. 0. 0. 0. 0. 0. 0. 0.\n",
      "  0. 0. 0. 0. 0. 0. 0. 0. 0. 0. 0. 0. 0. 0. 0. 0. 0. 0. 0. 0. 0. 0. 0. 0.\n",
      "  0. 0. 0. 0. 0. 0. 0. 0. 0. 0. 0. 0. 0. 0. 0. 0. 0. 0. 0. 0. 0. 0. 0. 0.\n",
      "  0. 0. 0. 0. 0. 0. 0. 0. 0. 0. 0. 0. 0. 0. 0. 0. 0. 0. 0. 0. 0. 0. 0. 0.\n",
      "  0. 0. 0. 0. 0. 0. 0. 0. 0. 0. 0. 0. 0. 0. 0. 0. 0. 0. 0. 0. 0. 0. 0. 0.\n",
      "  0. 0. 0. 0. 0. 0. 0. 0. 0. 0. 0. 0. 0. 0. 0. 0. 0. 0. 0. 0. 0. 0. 0. 0.\n",
      "  0. 0. 0. 0. 0. 0. 0. 0. 0. 0. 0. 0. 0. 0. 0. 0. 0. 0. 0. 0. 0. 0. 0. 0.\n",
      "  0. 0. 0. 0. 0. 0. 0. 0. 0. 0. 0. 0. 0. 0. 0. 0. 0. 0. 0. 0. 0. 0. 0. 0.\n",
      "  0. 0. 0. 0. 0. 0. 0. 0. 0. 0. 0. 0. 0. 0. 0. 0. 0. 0. 0. 0. 0. 0. 0. 0.\n",
      "  0. 0. 0. 0. 0. 0. 0. 0. 0. 0. 0. 0. 0. 0. 0. 0. 0. 0. 0. 0. 0. 0. 0. 0.\n",
      "  0. 0. 0. 0. 0. 0. 0. 0. 0. 0. 0. 0. 0. 0. 0. 0. 0. 0. 0. 0. 0. 0. 0. 0.\n",
      "  0. 0. 0. 0. 0. 0. 0. 0. 0. 0. 0. 0. 0. 0. 0. 0. 0. 1. 0. 0. 0. 0. 0. 0.\n",
      "  0. 0. 0. 0. 0. 0. 0. 0. 0. 0. 1. 0. 0. 0. 0. 0. 0. 0. 0. 0. 0. 0. 0. 0.\n",
      "  0. 0. 0. 0. 0. 0. 0. 0. 0. 0. 0. 0. 0. 0. 0. 0. 0. 0. 0. 0. 0. 0. 0. 0.\n",
      "  0. 0. 0. 0. 0. 0. 0. 0. 0. 0. 0. 0. 0. 0. 0. 0. 0. 0. 0. 0. 0. 0. 0. 0.\n",
      "  0. 0. 0. 0. 0. 0. 0. 0. 0. 0. 0. 0. 0. 0. 0. 0. 0. 0. 0. 0. 0. 0. 0. 0.\n",
      "  0. 0. 0. 0. 0. 0. 0. 0. 0. 0. 0. 0. 0. 0. 0. 0. 0. 0. 0. 0. 0. 0. 0. 0.\n",
      "  0. 0. 0. 0. 0. 0. 0. 0. 0. 0. 0. 0. 0. 0. 0. 0. 0. 0. 0. 0. 0. 0. 0. 0.\n",
      "  0. 0. 0. 0. 0. 0. 0. 0. 0. 0. 0. 0. 0. 0. 0. 0. 0. 0. 0. 0. 0. 0. 0. 0.\n",
      "  0. 0. 0. 0. 0. 0. 0. 0. 0. 0. 0. 0. 0. 0. 0. 0. 0. 0. 0. 0. 0. 0. 0. 0.\n",
      "  0. 0. 0. 0. 0. 0. 0. 0. 0. 0. 0. 0. 0. 0. 0. 0. 0. 0. 0. 0. 0. 0. 0. 0.\n",
      "  0. 0. 0. 0. 0. 0. 0. 0. 0. 0. 0. 0. 0. 0. 0. 1. 0. 0. 0. 0. 0. 0. 0. 0.\n",
      "  0. 0. 0. 0. 0. 0.]]\n"
     ]
    },
    {
     "name": "stderr",
     "output_type": "stream",
     "text": [
      "C:\\Users\\MADHU SIDDHARTH S\\AppData\\Local\\Programs\\Python\\Python311\\Lib\\site-packages\\sklearn\\base.py:439: UserWarning: X does not have valid feature names, but PolynomialFeatures was fitted with feature names\n",
      "  warnings.warn(\n"
     ]
    }
   ],
   "source": [
    "def transform_input(input_array):\n",
    "    train_features = df.drop(['Sample Time','total', '1212480 Lane 1 Flow','1212480 Lane 2 Flow','1212480 Lane 3 Flow','day_of_week','hour','minute'], axis = 1)\n",
    "    poly = PolynomialFeatures(2)\n",
    "    train_label = df['total']\n",
    "    x_train, x_test, y_train, y_test = train_test_split(train_features, train_label, test_size=0.1, random_state=1, shuffle=True)\n",
    "    poly.fit(x_train)\n",
    "    transformed_array = poly.transform(input_array.reshape(1,43))\n",
    "    print(\"transformed : \", transformed_array)\n",
    "    return transformed_array\n",
    "transformed_array = transform_input(input_array)"
   ]
  },
  {
   "cell_type": "code",
   "execution_count": 5,
   "metadata": {
    "ExecuteTime": {
     "end_time": "2024-04-25T16:11:57.121615900Z",
     "start_time": "2024-04-25T16:11:54.814764900Z"
    },
    "collapsed": false,
    "jupyter": {
     "outputs_hidden": false
    }
   },
   "outputs": [
    {
     "name": "stdout",
     "output_type": "stream",
     "text": [
      "prediction :  [225.]\n"
     ]
    },
    {
     "name": "stderr",
     "output_type": "stream",
     "text": [
      "C:\\Users\\MADHU SIDDHARTH S\\AppData\\Local\\Programs\\Python\\Python311\\Lib\\site-packages\\sklearn\\base.py:439: UserWarning: X does not have valid feature names, but RandomForestRegressor was fitted with feature names\n",
      "  warnings.warn(\n"
     ]
    }
   ],
   "source": [
    "def make_predictions(transformed_array):\n",
    "    with open('rf.pkl', 'rb') as file:\n",
    "        model = joblib.load(file)\n",
    "    prediction = model.predict(transformed_array.reshape(1,43))\n",
    "    return prediction\n",
    "prediction = make_predictions(input_array).round()\n",
    "print(\"prediction : \", prediction)"
   ]
  },
  {
   "cell_type": "code",
   "execution_count": 6,
   "metadata": {
    "ExecuteTime": {
     "end_time": "2024-04-25T16:11:57.904576900Z",
     "start_time": "2024-04-25T16:11:57.130630800Z"
    },
    "collapsed": false,
    "jupyter": {
     "outputs_hidden": false
    }
   },
   "outputs": [
    {
     "name": "stdout",
     "output_type": "stream",
     "text": [
      "After dozens of pro-Palestinian protesters were arrested at Columbia, Yale and NYU, students at colleges from Massachusetts to Minnesota to California are erecting encampments in solidarity.\n",
      "A tram accident at Universal Studios Hollywood in Los Angeles injured 15 people Saturday night, authorities and the company said.\n",
      "The Southern California home Anne Heche destroyed in the car accident that claimed her life has been fully restored -- and it's on the market too ... going for a bundle. The 3-bedroom, 3-bathroom Los Angeles residence looks strikingly different…\n",
      "La semana pasada Google anunció el despido de 28 empleados que habían participado en una protesta contra el millonario contrato que Google había firmado con el gobierno de Israel por el uso de Google Cloud.\n",
      "<!-- BREAK 1 -->\n",
      "Sundar Pichai se ha posicionado a t…\n",
      "Protests on college campuses related to the Israel-Hamas War have many Jews nervous heading into the holiday.\n"
     ]
    }
   ],
   "source": [
    "def newsapi():\n",
    "    url = ('https://newsapi.org/v2/everything?'\n",
    "           'q=california&'\n",
    "           'in=San Francisco&'  # Corrected the typo in 'Los angels' to 'Los Angeles'\n",
    "           'from=2024-04-20T00:00:01Z&'\n",
    "           'to=2024-04-24T23:59:59Z&'\n",
    "           'apiKey=f9c8762980744e5b9660c8b43090af2d')\n",
    "    response = requests.get(url)\n",
    "    articles = []\n",
    "    for article in response.json()['articles']:\n",
    "        description = article.get('description', '')  # Get the description or an empty string if not present\n",
    "        if description is not None and any(keyword in description.lower() for keyword in ['accident', 'protest', 'lane close']):\n",
    "            print(description)\n",
    "            articles.append(description)\n",
    "    if len(articles) == 0:\n",
    "        print(\"No news found\")\n",
    "    return articles\n",
    "articles = newsapi()"
   ]
  },
  {
   "cell_type": "code",
   "execution_count": 27,
   "metadata": {
    "ExecuteTime": {
     "end_time": "2024-04-25T16:40:44.885760400Z",
     "start_time": "2024-04-25T16:40:44.262722200Z"
    },
    "collapsed": false,
    "jupyter": {
     "outputs_hidden": false
    }
   },
   "outputs": [
    {
     "name": "stdout",
     "output_type": "stream",
     "text": [
      "Failed to retrieve the webpage.\n"
     ]
    }
   ],
   "source": [
    "# webscraping\n",
    "url = \"https://www.sfchronicle.com/in-depth-projects/2024/\"\n",
    "response = requests.get(url)\n",
    "\n",
    "# Check if the request was successful\n",
    "if response.status_code == 200:\n",
    "    # Parse the HTML content\n",
    "    soup = BeautifulSoup(response.content, 'html.parser')\n",
    "\n",
    "    # Find the elements containing the data you want to extract\n",
    "    web_data = soup.find_all('div', class_='f fdc mx20 sm:mx32 xl:mxa sy20 mb40 xl:mw1200px')\n",
    "\n",
    "    # Check if any data was found\n",
    "    if web_data:\n",
    "        # Process the data\n",
    "        for data in web_data:\n",
    "            # Extract and print the text content of each element\n",
    "            print(data.text.strip())\n",
    "    else:\n",
    "        print(\"No data found on the webpage.\")\n",
    "else:\n",
    "    print(\"Failed to retrieve the webpage.\")"
   ]
  },
  {
   "cell_type": "code",
   "execution_count": 48,
   "metadata": {
    "ExecuteTime": {
     "end_time": "2024-04-25T17:02:59.629382800Z",
     "start_time": "2024-04-25T17:02:59.628876Z"
    },
    "collapsed": false,
    "jupyter": {
     "outputs_hidden": false
    }
   },
   "outputs": [],
   "source": [
    "def dijkstra(graph, start, end):\n",
    "    # Initialize distances dictionary with infinity for all nodes except start node\n",
    "    distances = {node: float('inf') for node in graph}\n",
    "    distances[start] = 0\n",
    "\n",
    "    # Priority queue to store nodes to visit\n",
    "    pq = [(0, start)]  # (distance, node)\n",
    "\n",
    "    # Dictionary to store the previous node in the shortest path\n",
    "    previous = {}\n",
    "\n",
    "    while pq:\n",
    "        current_distance, current_node = heapq.heappop(pq)\n",
    "\n",
    "        # Skip this iteration if the current distance to this node is not the shortest\n",
    "        if current_distance > distances[current_node]:\n",
    "            continue\n",
    "\n",
    "        # Explore neighbors of the current node\n",
    "        for neighbor, weight in graph[current_node].items():\n",
    "            distance = current_distance + weight\n",
    "            # If this path is shorter than previously known, update distance and previous node\n",
    "            if distance < distances[neighbor]:\n",
    "                distances[neighbor] = distance\n",
    "                previous[neighbor] = current_node\n",
    "                heapq.heappush(pq, (distance, neighbor))\n",
    "\n",
    "    # If the end node is not reachable\n",
    "    if end not in previous:\n",
    "        return None\n",
    "\n",
    "    # Reconstruct the shortest path\n",
    "    path = []\n",
    "    while end:\n",
    "        path.append(end)\n",
    "        end = previous.get(end)\n",
    "    return path[::-1]"
   ]
  },
  {
   "cell_type": "code",
   "execution_count": 8,
   "metadata": {
    "ExecuteTime": {
     "end_time": "2024-04-25T16:11:57.989081800Z",
     "start_time": "2024-04-25T16:11:57.913874800Z"
    },
    "collapsed": false,
    "jupyter": {
     "outputs_hidden": false
    }
   },
   "outputs": [],
   "source": [
    "def get_lat_long(building_name):\n",
    "    # Initialize Nominatim geocoder\n",
    "    geolocator = Nominatim(user_agent=\"geoapiExercises\")\n",
    "\n",
    "    # Construct the address string with San Francisco\n",
    "    address = building_name + \", San Francisco\"\n",
    "\n",
    "    # Try to geocode the address\n",
    "    location = geolocator.geocode(address)\n",
    "\n",
    "    # If location found, return latitude and longitude\n",
    "    if location:\n",
    "        latitude = location.latitude\n",
    "        longitude = location.longitude\n",
    "        return latitude, longitude\n",
    "    else:\n",
    "        print(f\"Failed to geocode {building_name}\")\n",
    "        return None, None"
   ]
  },
  {
   "cell_type": "code",
   "execution_count": 9,
   "metadata": {
    "ExecuteTime": {
     "end_time": "2024-04-25T16:11:58.005025800Z",
     "start_time": "2024-04-25T16:11:57.926246700Z"
    },
    "collapsed": false,
    "jupyter": {
     "outputs_hidden": false
    }
   },
   "outputs": [],
   "source": [
    "def haversine(lat1, lon1, lat2, lon2):\n",
    "    \"\"\"\n",
    "    Calculate the great circle distance between two points\n",
    "    on the Earth's surface using the Haversine formula.\n",
    "    \"\"\"\n",
    "    # Convert latitude and longitude from degrees to radians\n",
    "    lat1, lon1, lat2, lon2 = map(np.radians, [lat1, lon1, lat2, lon2])\n",
    "\n",
    "    # Haversine formula\n",
    "    dlon = lon2 - lon1\n",
    "    dlat = lat2 - lat1\n",
    "    a = np.sin(dlat/2)**2 + np.cos(lat1) * np.cos(lat2) * np.sin(dlon/2)**2\n",
    "    c = 2 * np.arcsin(np.sqrt(a))\n",
    "    r = 6371  # Radius of Earth in kilometers\n",
    "    return r * c"
   ]
  },
  {
   "cell_type": "code",
   "execution_count": 10,
   "metadata": {
    "ExecuteTime": {
     "end_time": "2024-04-25T16:11:58.005025800Z",
     "start_time": "2024-04-25T16:11:57.931205400Z"
    },
    "collapsed": false,
    "jupyter": {
     "outputs_hidden": false
    }
   },
   "outputs": [],
   "source": [
    "def distance(coordinates, latitude, longitude):\n",
    "    min_distance = float('inf')\n",
    "    key = None\n",
    "    for i in coordinates:\n",
    "        node_distance = haversine(latitude, longitude, coordinates[i][0], coordinates[i][1])\n",
    "        if node_distance < min_distance:\n",
    "            min_distance = node_distance\n",
    "            key = i\n",
    "    return key"
   ]
  },
  {
   "cell_type": "code",
   "execution_count": 51,
   "metadata": {
    "ExecuteTime": {
     "end_time": "2024-04-25T17:04:20.335987300Z",
     "start_time": "2024-04-25T17:04:20.323420800Z"
    },
    "collapsed": false,
    "jupyter": {
     "outputs_hidden": false
    }
   },
   "outputs": [],
   "source": [
    "def get_building(building):\n",
    "    buildings = {'hyatt' : [37.79429458516023, -122.3959216670412],\n",
    "             'federal reserve bank' : [37.79347115756132, -122.39606150557233],\n",
    "             'autodesk' : [37.79412348407684, -122.39515481057997],\n",
    "             'pacific gas' : [37.79161711991032, -122.39636233874825],\n",
    "             'beale street plaza' : [37.7917535627935, -122.39675995513431],\n",
    "             'on24' : [37.79132579462402, -122.39624571019917],\n",
    "             'park tower' : [37.79022928575979, -122.39454532915865],\n",
    "             'wizeline' : [37.791384271255936, -122.39533474022168],\n",
    "             'databricks' : [37.791099236856226, -122.39393059431788],\n",
    "             'ucf' : [37.79088164089771, -122.39216356320853],\n",
    "             'gap hq' : [37.7904862055847, -122.39062886805068],\n",
    "             'mira' : [37.79030128363038, -122.39136287056844],\n",
    "             'rincon apt' : [37.79164848037965, -122.3922755468832],\n",
    "             'lumina' : [37.78887712878227, -122.39239572459756],\n",
    "             'woodlands market' : [37.78913605029064, -122.3916839643332]}\n",
    "    return buildings[building]"
   ]
  },
  {
   "cell_type": "code",
   "execution_count": 12,
   "metadata": {
    "ExecuteTime": {
     "end_time": "2024-04-25T16:11:58.005025800Z",
     "start_time": "2024-04-25T16:11:57.968160300Z"
    },
    "collapsed": false,
    "jupyter": {
     "outputs_hidden": false
    }
   },
   "outputs": [],
   "source": [
    "coordinates = {'I' : [37.792449682053594, -122.39743244631684],\n",
    "               'E' : [37.79314490019402, -122.39648830880148],\n",
    "               'A' : [37.7937926826253, -122.39565743493154],\n",
    "               'J' : [37.7911682686267, -122.39583260411536],\n",
    "               'F' : [37.79185283904245, -122.39494706864734],\n",
    "               'B' : [37.79254322386127, -122.3940707015303],\n",
    "               'K' : [37.7899323179828, -122.39428970500664],\n",
    "               'G' : [37.79061846867271, -122.39339682036328],\n",
    "               'C' : [37.791327201916516, -122.3925363386278],\n",
    "               'L' : [37.788706730073315, -122.3927653318488],\n",
    "               'H' : [37.78939758646449, -122.39186182842259],\n",
    "               'D' : [37.790169485406736, -122.3909632087987]}\n",
    "\n",
    "graph = {\n",
    "    'A': {'B': 1, 'E': 1},\n",
    "    'B': {'A': 1, 'C': 1, 'F': 1},\n",
    "    'C': {'B': 1, 'D': 1, 'G': 1},\n",
    "    'D': {'C': 1, 'H': 1},\n",
    "    'E': {'A': 1, 'F': 1, 'I': 1},\n",
    "    'F': {'B': 1, 'E': 1, 'G': 1, 'J': 1},\n",
    "    'G': {'C': 1, 'F': 1, 'H': 1, 'K': 1},\n",
    "    'H': {'D': 1, 'G': 1, 'L': 1},\n",
    "    'I': {'E': 1, 'J': 1},\n",
    "    'J': {'F': 1, 'I': 1, 'K': 1},\n",
    "    'K': {'G': 1, 'J': 1, 'L': 1},\n",
    "    'L': {'H': 1, 'K': 1}\n",
    "}"
   ]
  },
  {
   "cell_type": "code",
   "execution_count": 13,
   "metadata": {
    "ExecuteTime": {
     "end_time": "2024-04-25T16:11:58.005025800Z",
     "start_time": "2024-04-25T16:11:57.968160300Z"
    },
    "collapsed": false,
    "jupyter": {
     "outputs_hidden": false
    }
   },
   "outputs": [],
   "source": [
    "# updating data gained from api and webscraping in graph edges\n",
    "# [vehicle, lane, road_blocks]\n",
    "traffic_information = {\n",
    "    'A': {'B': [140, 1, 1.0], 'E': [220, 2, 1.0]},\n",
    "    'B': {'A': [140, 1, 1.0], 'C': [130, 1, 1.0], 'F': [170, 2, 1.0]},\n",
    "    'C': {'B': [130, 1, 1.0], 'D': [135, 1, 1.0], 'G': [175, 2, 1.0]},\n",
    "    'D': {'C': [100, 1, 1.0], 'H': [110, 1, 1.0]},\n",
    "    'E': {'A': [230, 2, 1.0], 'F': [0, 0, 0], 'I': [230, 2, 1.0]},\n",
    "    'F': {'B': [110, 1, 1.0], 'E': [150, 2, 1.0], 'G': [0, 0, 0], 'J': [125, 1, 1.0]},\n",
    "    'G': {'C': [100, 1, 1.0], 'F': [235, 3, 1.0], 'H': [105, 1, 1.0], 'K': [145, 2, 1.0]},\n",
    "    'H': {'D': [95, 1, 1.0], 'G': [190, 2, 1.0], 'L': [95, 1, 1.0]},\n",
    "    'I': {'E': [240, 2, 1.0], 'J': [180, 3, 1.0]},\n",
    "    'J': {'F': [130, 1, 1.0], 'I': [0, 0, 0], 'K': [140, 2, 1.0]},\n",
    "    'K': {'G': [80, 1, 1.0], 'J': [85, 1, 1.0], 'L': [210, 3, 1.0]},\n",
    "    'L': {'H': [95, 1, 1.0], 'K': [0, 0, 0]}\n",
    "}\n",
    "\n",
    "market_street = ['A', 'E', 'I']\n",
    "mission_street = ['B', 'F', 'J']\n",
    "howard_street = ['C', 'G', 'K']\n",
    "folsom_street = ['D', 'H', 'L']\n",
    "\n",
    "spear_street = ['A', 'B', 'C', 'D']\n",
    "main_street = ['E', 'F', 'G', 'H']\n",
    "beale_street = ['I', 'J', 'K', 'L']\n",
    "\n",
    "for i in articles:\n",
    "    if \"market street\" in i:\n",
    "        for j in range(len(market_street)-1):\n",
    "            if traffic_information[j][j+1][1] != 0:\n",
    "                traffic_information[j][j+1][2] = 0.5\n",
    "        for j in range(len(market_street)-1, 0, -1):\n",
    "            if traffic_information[j][j-1][1] != 0:\n",
    "                traffic_information[j][j-1][2] = 0.5\n",
    "        print(\"updated market street\")\n",
    "\n",
    "    if \"mission street\" in i:\n",
    "        for j in range(len(mission_street)-1):\n",
    "            if traffic_information[j][j+1][1] != 0:\n",
    "                traffic_information[j][j+1][2] = 0.5\n",
    "        for j in range(len(mission_street)-1, 0, -1):\n",
    "            if traffic_information[j][j-1][1] != 0:\n",
    "                traffic_information[j][j-1][2] = 0.5\n",
    "        print(\"updated mission street\")\n",
    "\n",
    "    if \"howard street\" in i:\n",
    "        for j in range(len(howard_street)-1):\n",
    "            if traffic_information[j][j+1][1] != 0:\n",
    "                traffic_information[j][j+1][2] = 0.5\n",
    "        for j in range(len(howard_street)-1, 0, -1):\n",
    "            if traffic_information[j][j-1][1] != 0:\n",
    "                traffic_information[j][j-1][2] = 0.5\n",
    "        print(\"updated howard street\")\n",
    "\n",
    "    if \"folsom street\" in i:\n",
    "        for j in range(len(folsom_street)-1):\n",
    "            if traffic_information[j][j+1][1] != 0:\n",
    "                traffic_information[j][j+1][2] = 0.5\n",
    "        for j in range(len(folsom_street)-1, 0, -1):\n",
    "            if traffic_information[j][j-1][1] != 0:\n",
    "                traffic_information[j][j-1][2] = 0.5\n",
    "        print(\"updated folsom street\")\n",
    "\n",
    "    if \"main street\" in i:\n",
    "        for j in range(len(main_street)-1):\n",
    "            if traffic_information[j][j+1][1] != 0:\n",
    "                traffic_information[j][j+1][2] = 0.5\n",
    "        for j in range(len(main_street)-1, 0, -1):\n",
    "            if traffic_information[j][j-1][1] != 0:\n",
    "                traffic_information[j][j-1][2] = 0.5\n",
    "        print(\"updated main street\")\n",
    "\n",
    "    if \"spear street\" in i:\n",
    "        for j in range(len(spear_street)-1):\n",
    "            if traffic_information[j][j+1][1] != 0:\n",
    "                traffic_information[j][j+1][2] = 0.5\n",
    "        for j in range(len(spear_street)-1, 0, -1):\n",
    "            if traffic_information[j][j-1][1] != 0:\n",
    "                traffic_information[j][j-1][2] = 0.5\n",
    "        print(\"updated spear street\")\n",
    "\n",
    "    if \"beale street\" in i:\n",
    "        for j in range(len(beale_street)-1):\n",
    "            if traffic_information[j][j+1][1] != 0:\n",
    "                traffic_information[j][j+1][2] = 0.5\n",
    "        for j in range(len(beale_street)-1, 0, -1):\n",
    "            if traffic_information[j][j-1][1] != 0:\n",
    "                traffic_information[j][j-1][2] = 0.5\n",
    "        print(\"updated beale street\")"
   ]
  },
  {
   "cell_type": "code",
   "execution_count": 49,
   "metadata": {
    "ExecuteTime": {
     "end_time": "2024-04-25T17:03:08.453021600Z",
     "start_time": "2024-04-25T17:03:08.433371500Z"
    },
    "collapsed": false,
    "jupyter": {
     "outputs_hidden": false
    }
   },
   "outputs": [
    {
     "name": "stdout",
     "output_type": "stream",
     "text": [
      "updated graph :  {'A': {'B': 140.0, 'E': 110.0}, 'B': {'A': 140.0, 'C': 130.0, 'F': 85.0}, 'C': {'B': 130.0, 'D': 135.0, 'G': 87.5}, 'D': {'C': 100.0, 'H': 110.0}, 'E': {'A': 115.0, 'F': 99999, 'I': 115.0}, 'F': {'B': 110.0, 'E': 75.0, 'G': 99999, 'J': 125.0}, 'G': {'C': 100.0, 'F': 78.33333333333333, 'H': 105.0, 'K': 72.5}, 'H': {'D': 95.0, 'G': 95.0, 'L': 95.0}, 'I': {'E': 120.0, 'J': 60.0}, 'J': {'F': 130.0, 'I': 99999, 'K': 70.0}, 'K': {'G': 80.0, 'J': 85.0, 'L': 70.0}, 'L': {'H': 95.0, 'K': 99999}}\n"
     ]
    }
   ],
   "source": [
    "# updating vehicle count based on the new information\n",
    "for i in traffic_information.keys():\n",
    "    for j in traffic_information[i].keys():\n",
    "        if traffic_information[i][j][0] != 0:\n",
    "            graph[i][j] = traffic_information[i][j][0] / traffic_information[i][j][1] * traffic_information[i][j][2]\n",
    "        else:\n",
    "            graph[i][j] = 99999\n",
    "print(\"updated graph : \", graph)"
   ]
  },
  {
   "cell_type": "code",
   "execution_count": 55,
   "metadata": {
    "ExecuteTime": {
     "end_time": "2024-04-25T17:07:15.530317500Z",
     "start_time": "2024-04-25T17:07:10.353929600Z"
    },
    "collapsed": false,
    "jupyter": {
     "outputs_hidden": false
    }
   },
   "outputs": [
    {
     "name": "stdout",
     "output_type": "stream",
     "text": [
      "starting point :  DATABRICKS\n",
      "ending point :  HYATT\n",
      "Latitude: 37.791099236856226, Longitude: -122.39393059431788\n",
      "Latitude: 37.79429458516023, Longitude: -122.3959216670412\n",
      "start, end : G, A\n",
      "Shortest Path: ['G', 'F', 'E', 'A']\n"
     ]
    }
   ],
   "source": [
    "start_place = input(\"Enter the start location : \").lower()\n",
    "end_place = input(\"Enter the end loaction : \").lower()\n",
    "print(\"starting point : \", start_place.upper())\n",
    "print(\"ending point : \", end_place.upper())\n",
    "\n",
    "# latitude_start, longitude_start = get_lat_long(start)\n",
    "latitude_start, longitude_start = get_building(start_place)\n",
    "if latitude_start is not None and longitude_start is not None:\n",
    "    print(f\"Latitude: {latitude_start}, Longitude: {longitude_start}\")\n",
    "else:\n",
    "    print(\"Failed to retrieve latitude and longitude.\")\n",
    "\n",
    "# latitude_end, longitude_end = get_lat_long(end)\n",
    "latitude_end, longitude_end = get_building(end_place)\n",
    "\n",
    "if latitude_end is not None and longitude_end is not None:\n",
    "    print(f\"Latitude: {latitude_end}, Longitude: {longitude_end}\")\n",
    "else:\n",
    "    print(\"Failed to retrieve latitude and longitude.\")\n",
    "\n",
    "start_coords = [latitude_start, longitude_start]\n",
    "end_coords = [latitude_end, longitude_end]\n",
    "\n",
    "start = distance(coordinates, latitude_start, longitude_start)\n",
    "end = distance(coordinates, latitude_end, longitude_end)\n",
    "print(\"start, end : {f1}, {f2}\".format(f1=start, f2=end))\n",
    "\n",
    "shortest_path = dijkstra(graph, start, end)\n",
    "if shortest_path:\n",
    "    print(\"Shortest Path:\", shortest_path)\n",
    "    # print(\"Total Cost:\", sum(graph[shortest_path[i]][shortest_path[i+1]] for i in range(len(shortest_path)-1)))\n",
    "else:\n",
    "    print(\"No path found!\")\n",
    "\n",
    "# Create a Folium map centered at the midpoint of the line\n",
    "map_center = [(start_coords[0] + end_coords[0]) / 2, (start_coords[1] + end_coords[1]) / 2]\n",
    "mymap = folium.Map(location=map_center, zoom_start=15)\n",
    "\n",
    "# Add a polyline connecting the start and end points\n",
    "for i in range(0,len(shortest_path)-1,1):\n",
    "    folium.PolyLine(locations=[coordinates[shortest_path[i]], coordinates[shortest_path[i+1]]], color='blue', weight=5).add_to(mymap)\n",
    "folium.PolyLine(locations=[start_coords, coordinates[start]], color='blue', weight=5).add_to(mymap)\n",
    "folium.PolyLine(locations=[end_coords, coordinates[end]], color='blue', weight=5).add_to(mymap)\n",
    "\n",
    "# Add markers for start and end points\n",
    "folium.Marker(location=start_coords, tooltip=start_place.upper()).add_to(mymap)\n",
    "folium.Marker(location=end_coords, tooltip=end_place.upper()).add_to(mymap)\n",
    "\n",
    "# Save the map to an HTML file\n",
    "mymap.save(\"output.html\")"
   ]
  },
  {
   "cell_type": "code",
   "execution_count": null,
   "metadata": {
    "collapsed": false,
    "jupyter": {
     "outputs_hidden": false
    }
   },
   "outputs": [],
   "source": []
  }
 ],
 "metadata": {
  "kernelspec": {
   "display_name": "Python 3 (ipykernel)",
   "language": "python",
   "name": "python3"
  },
  "language_info": {
   "codemirror_mode": {
    "name": "ipython",
    "version": 3
   },
   "file_extension": ".py",
   "mimetype": "text/x-python",
   "name": "python",
   "nbconvert_exporter": "python",
   "pygments_lexer": "ipython3",
   "version": "3.10.12"
  }
 },
 "nbformat": 4,
 "nbformat_minor": 4
}
